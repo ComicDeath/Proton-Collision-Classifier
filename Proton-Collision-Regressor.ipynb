{
 "cells": [
  {
   "cell_type": "markdown",
   "id": "0dfc0156-1105-4645-afa7-30b47c87351b",
   "metadata": {},
   "source": [
    "# TITULO FODA\n",
    "\n",
    "titulo foda do trabalho, ilum escola de ciencias, nossos nomes (te amo)"
   ]
  },
  {
   "cell_type": "markdown",
   "id": "11ad235d-243b-4741-9b4d-d74b210fe8e7",
   "metadata": {},
   "source": [
    "## Introdução"
   ]
  },
  {
   "cell_type": "markdown",
   "id": "fc69ac50-69c3-4e36-93cf-b56dd64a15ad",
   "metadata": {},
   "source": [
    "Algo teórico sobre colisões e pq é legal de prever os jets etc"
   ]
  },
  {
   "cell_type": "markdown",
   "id": "63e61764-2c05-42d5-bd38-32c086afbd19",
   "metadata": {},
   "source": [
    "## Tratamento de dados"
   ]
  },
  {
   "cell_type": "markdown",
   "id": "9fa31877-b6a6-4a61-bcf0-c66037f32a4f",
   "metadata": {},
   "source": [
    "Explicar um pouco do dataset usado da cern, train-test-split, retirar dados redundantes, normalizacao possivelmente?\n",
    "\n",
    "IREMOS PREVER nJets e nBJets usando o resto como atributo"
   ]
  },
  {
   "cell_type": "markdown",
   "id": "9859c493-bbfd-425e-b058-6d45b7e680a7",
   "metadata": {},
   "source": [
    "## Treinamento dos modelos"
   ]
  },
  {
   "cell_type": "markdown",
   "id": "9ae2effc-f401-496c-be48-dbd523cd242e",
   "metadata": {},
   "source": [
    "Escolher 5 modelos, treinar eles, otimizar hiperparametros pelo optuna\n",
    "\n",
    "possiveis modelos:\n",
    "\n",
    "**SVM**\n",
    "\n",
    "**K-NN REGRESSOR**\n",
    "\n",
    "**DECISION TREE**\n",
    "\n",
    "**RANDOM FOREST**"
   ]
  },
  {
   "cell_type": "markdown",
   "id": "6e9c0362-c32c-40f0-a2bc-f88fba2c3ac8",
   "metadata": {},
   "source": [
    "## Comparação do desempenho"
   ]
  },
  {
   "cell_type": "markdown",
   "id": "334db8f6-0b04-4f08-a2d2-7464ecfcab06",
   "metadata": {},
   "source": [
    "Usar alguma métrica (provavelmente RMSE), fazer validação cruzada\n",
    "\n",
    "da pra incluir alguns graficos de dados reais/previstos"
   ]
  },
  {
   "cell_type": "markdown",
   "id": "3b6e57bc-55be-4048-933f-aa62341db08f",
   "metadata": {},
   "source": [
    "## Discussão dos resultados"
   ]
  },
  {
   "cell_type": "markdown",
   "id": "cbd11bda-a834-45e4-be15-d5621af00230",
   "metadata": {},
   "source": [
    "discussao de tudo"
   ]
  },
  {
   "cell_type": "markdown",
   "id": "0e9d7d0f-5706-47e8-83fa-97162ce04536",
   "metadata": {},
   "source": [
    "## Conclusão"
   ]
  },
  {
   "cell_type": "markdown",
   "id": "292864bf-5b18-4986-ab5e-6c1fadaeb9ee",
   "metadata": {},
   "source": [
    "Não precisa ser longo, 2 paragrafos ja ta bom"
   ]
  },
  {
   "cell_type": "markdown",
   "id": "3ee41edf-6705-471b-894a-c093b5dfea38",
   "metadata": {},
   "source": [
    "## Referências"
   ]
  },
  {
   "cell_type": "markdown",
   "id": "51132a04-cfbc-447a-8f2b-5c1abeee6045",
   "metadata": {},
   "source": [
    "Ir citando conforme necessario"
   ]
  },
  {
   "cell_type": "code",
   "execution_count": null,
   "id": "a607375e-5719-46d0-b24c-133e49077eaa",
   "metadata": {},
   "outputs": [],
   "source": []
  }
 ],
 "metadata": {
  "kernelspec": {
   "display_name": "ilumpy",
   "language": "python",
   "name": "ilumpy"
  },
  "language_info": {
   "codemirror_mode": {
    "name": "ipython",
    "version": 3
   },
   "file_extension": ".py",
   "mimetype": "text/x-python",
   "name": "python",
   "nbconvert_exporter": "python",
   "pygments_lexer": "ipython3",
   "version": "3.12.7"
  }
 },
 "nbformat": 4,
 "nbformat_minor": 5
}
