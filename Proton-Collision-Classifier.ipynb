{
 "cells": [
  {
   "cell_type": "markdown",
   "id": "0dfc0156-1105-4645-afa7-30b47c87351b",
   "metadata": {},
   "source": [
    "# TITULO FODA\n",
    "\n",
    "titulo foda do trabalho, ilum escola de ciencias, nossos nomes (te amo)"
   ]
  },
  {
   "cell_type": "markdown",
   "id": "11ad235d-243b-4741-9b4d-d74b210fe8e7",
   "metadata": {},
   "source": [
    "# Introdução"
   ]
  },
  {
   "cell_type": "markdown",
   "id": "fc69ac50-69c3-4e36-93cf-b56dd64a15ad",
   "metadata": {},
   "source": [
    "Algo teórico sobre colisões e pq é legal de prever os jets etc\n",
    "\n",
    "explicar o objetivo do trabalho e o dataset."
   ]
  },
  {
   "cell_type": "markdown",
   "id": "8c3a0183-c564-42b5-b5e6-6c2ddbe798b7",
   "metadata": {},
   "source": [
    "## Importações"
   ]
  },
  {
   "cell_type": "markdown",
   "id": "692973de-ae0f-4f9a-89e5-2a1def4b6fc1",
   "metadata": {},
   "source": [
    "Vamos começar importando as bibliotecas necessárias para os códigos do projeto. Utilizamos as bibliotecas `pandas` e `numpy` para a manipulação e análise do dataset, `matplotlib` para visualização de gráficos, e `optuna` para otimização de hiperparâmetros.\n",
    "\n",
    "Do scikit-learn, usamos módulos para divisão dos dados, normalização, criação de pipelines, treinamento de modelos de classificação e avaliação de desempenho."
   ]
  },
  {
   "cell_type": "code",
   "execution_count": 19,
   "id": "20c79fc0-a63f-4828-97fd-d01b87c631fa",
   "metadata": {},
   "outputs": [],
   "source": [
    "import numpy as np\n",
    "import pandas as pd\n",
    "import matplotlib.pyplot as plt\n",
    "import optuna\n",
    "from sklearn.model_selection import train_test_split, cross_val_score, StratifiedKFold\n",
    "from sklearn.preprocessing import StandardScaler\n",
    "from sklearn.pipeline import make_pipeline\n",
    "from sklearn.tree import DecisionTreeClassifier\n",
    "from sklearn.metrics import classification_report, accuracy_score, f1_score\n",
    "from sklearn.utils.class_weight import compute_class_weight\n",
    "from sklearn.inspection import permutation_importance"
   ]
  },
  {
   "cell_type": "markdown",
   "id": "63e61764-2c05-42d5-bd38-32c086afbd19",
   "metadata": {},
   "source": [
    "## Tratamento de dados"
   ]
  },
  {
   "cell_type": "markdown",
   "id": "9fa31877-b6a6-4a61-bcf0-c66037f32a4f",
   "metadata": {},
   "source": [
    "Como visto na introdução, o dataset `MultiJetRun2010B`oriundo da CMS/CERN será utilizado. Contido nele há eventos de colisões de prótons com várias medições físicas detectadas, como:\n",
    "\n",
    "`MR`: Escala de massa do evento\n",
    "\n",
    "`Rsq`: Variável relacionada à energia e momento do evento\n",
    "\n",
    "`E1`, `E2`: Energias dos dois jatos principais\n",
    "\n",
    "`Px1`, `Py1`, `Pz1`, `Px2`, `Py2`, `Pz2`: Componentes do momento linear em cada direção espacial dos dois jatos\n",
    "\n",
    "`HT`: Soma escalar dos momentos transversos de todos os jatos\n",
    "\n",
    "`MET`: Energia transversal ausente – Missing Transverse Energy\n",
    "\n",
    "A coluna `nJets` representa o número de jatos de hádrons detectados em cada colisão e será utilizado como target no processo de classificação.\n"
   ]
  },
  {
   "cell_type": "code",
   "execution_count": 20,
   "id": "52068d4a-5a79-4dfe-81b2-12e2a7613537",
   "metadata": {},
   "outputs": [
    {
     "name": "stderr",
     "output_type": "stream",
     "text": [
      "<>:3: SyntaxWarning: invalid escape sequence '\\M'\n",
      "<>:3: SyntaxWarning: invalid escape sequence '\\M'\n",
      "C:\\Users\\joao25017\\AppData\\Local\\Temp\\ipykernel_12104\\2296493663.py:3: SyntaxWarning: invalid escape sequence '\\M'\n",
      "  df = pd.read_csv(\"Dataset\\MultiJetRun2010B.csv\")\n"
     ]
    },
    {
     "data": {
      "text/html": [
       "<div>\n",
       "<style scoped>\n",
       "    .dataframe tbody tr th:only-of-type {\n",
       "        vertical-align: middle;\n",
       "    }\n",
       "\n",
       "    .dataframe tbody tr th {\n",
       "        vertical-align: top;\n",
       "    }\n",
       "\n",
       "    .dataframe thead th {\n",
       "        text-align: right;\n",
       "    }\n",
       "</style>\n",
       "<table border=\"1\" class=\"dataframe\">\n",
       "  <thead>\n",
       "    <tr style=\"text-align: right;\">\n",
       "      <th></th>\n",
       "      <th>Run</th>\n",
       "      <th>Lumi</th>\n",
       "      <th>Event</th>\n",
       "      <th>MR</th>\n",
       "      <th>Rsq</th>\n",
       "      <th>E1</th>\n",
       "      <th>Px1</th>\n",
       "      <th>Py1</th>\n",
       "      <th>Pz1</th>\n",
       "      <th>E2</th>\n",
       "      <th>Px2</th>\n",
       "      <th>Py2</th>\n",
       "      <th>Pz2</th>\n",
       "      <th>HT</th>\n",
       "      <th>MET</th>\n",
       "      <th>nJets</th>\n",
       "      <th>nBJets</th>\n",
       "    </tr>\n",
       "  </thead>\n",
       "  <tbody>\n",
       "    <tr>\n",
       "      <th>0</th>\n",
       "      <td>148029</td>\n",
       "      <td>388</td>\n",
       "      <td>302318745</td>\n",
       "      <td>215.553</td>\n",
       "      <td>0.031977</td>\n",
       "      <td>136.7100</td>\n",
       "      <td>-109.8930</td>\n",
       "      <td>-54.03420</td>\n",
       "      <td>-58.9032</td>\n",
       "      <td>142.1790</td>\n",
       "      <td>70.0254</td>\n",
       "      <td>41.1225</td>\n",
       "      <td>-116.5130</td>\n",
       "      <td>203.666</td>\n",
       "      <td>18.31100</td>\n",
       "      <td>2</td>\n",
       "      <td>0</td>\n",
       "    </tr>\n",
       "    <tr>\n",
       "      <th>1</th>\n",
       "      <td>148029</td>\n",
       "      <td>388</td>\n",
       "      <td>302323641</td>\n",
       "      <td>155.437</td>\n",
       "      <td>0.042157</td>\n",
       "      <td>83.3865</td>\n",
       "      <td>81.1500</td>\n",
       "      <td>6.88361</td>\n",
       "      <td>-12.9688</td>\n",
       "      <td>73.9025</td>\n",
       "      <td>-72.2472</td>\n",
       "      <td>11.8835</td>\n",
       "      <td>3.0899</td>\n",
       "      <td>154.659</td>\n",
       "      <td>14.77470</td>\n",
       "      <td>2</td>\n",
       "      <td>0</td>\n",
       "    </tr>\n",
       "    <tr>\n",
       "      <th>2</th>\n",
       "      <td>148029</td>\n",
       "      <td>388</td>\n",
       "      <td>302336217</td>\n",
       "      <td>400.563</td>\n",
       "      <td>0.026938</td>\n",
       "      <td>253.1840</td>\n",
       "      <td>139.9020</td>\n",
       "      <td>102.64000</td>\n",
       "      <td>-101.9350</td>\n",
       "      <td>535.5510</td>\n",
       "      <td>-110.3790</td>\n",
       "      <td>-89.0929</td>\n",
       "      <td>-516.1790</td>\n",
       "      <td>343.280</td>\n",
       "      <td>25.22110</td>\n",
       "      <td>3</td>\n",
       "      <td>0</td>\n",
       "    </tr>\n",
       "    <tr>\n",
       "      <th>...</th>\n",
       "      <td>...</td>\n",
       "      <td>...</td>\n",
       "      <td>...</td>\n",
       "      <td>...</td>\n",
       "      <td>...</td>\n",
       "      <td>...</td>\n",
       "      <td>...</td>\n",
       "      <td>...</td>\n",
       "      <td>...</td>\n",
       "      <td>...</td>\n",
       "      <td>...</td>\n",
       "      <td>...</td>\n",
       "      <td>...</td>\n",
       "      <td>...</td>\n",
       "      <td>...</td>\n",
       "      <td>...</td>\n",
       "      <td>...</td>\n",
       "    </tr>\n",
       "    <tr>\n",
       "      <th>21723</th>\n",
       "      <td>149181</td>\n",
       "      <td>1804</td>\n",
       "      <td>1703621104</td>\n",
       "      <td>484.392</td>\n",
       "      <td>0.000920</td>\n",
       "      <td>197.1530</td>\n",
       "      <td>-61.5507</td>\n",
       "      <td>21.76930</td>\n",
       "      <td>110.9250</td>\n",
       "      <td>483.9510</td>\n",
       "      <td>47.5292</td>\n",
       "      <td>-37.9600</td>\n",
       "      <td>-470.8470</td>\n",
       "      <td>261.615</td>\n",
       "      <td>3.71479</td>\n",
       "      <td>4</td>\n",
       "      <td>0</td>\n",
       "    </tr>\n",
       "    <tr>\n",
       "      <th>21724</th>\n",
       "      <td>149181</td>\n",
       "      <td>1804</td>\n",
       "      <td>1703642752</td>\n",
       "      <td>215.713</td>\n",
       "      <td>0.055836</td>\n",
       "      <td>647.4060</td>\n",
       "      <td>-78.9546</td>\n",
       "      <td>-88.75690</td>\n",
       "      <td>636.3600</td>\n",
       "      <td>383.0890</td>\n",
       "      <td>80.5702</td>\n",
       "      <td>49.3765</td>\n",
       "      <td>371.1240</td>\n",
       "      <td>213.289</td>\n",
       "      <td>20.95540</td>\n",
       "      <td>2</td>\n",
       "      <td>0</td>\n",
       "    </tr>\n",
       "    <tr>\n",
       "      <th>21725</th>\n",
       "      <td>149181</td>\n",
       "      <td>1804</td>\n",
       "      <td>1703634776</td>\n",
       "      <td>547.384</td>\n",
       "      <td>0.001232</td>\n",
       "      <td>242.4140</td>\n",
       "      <td>191.2180</td>\n",
       "      <td>-118.75800</td>\n",
       "      <td>-37.2528</td>\n",
       "      <td>414.6670</td>\n",
       "      <td>-175.4890</td>\n",
       "      <td>83.3315</td>\n",
       "      <td>355.2330</td>\n",
       "      <td>444.869</td>\n",
       "      <td>1.84347</td>\n",
       "      <td>4</td>\n",
       "      <td>0</td>\n",
       "    </tr>\n",
       "  </tbody>\n",
       "</table>\n",
       "<p>21726 rows × 17 columns</p>\n",
       "</div>"
      ],
      "text/plain": [
       "          Run  Lumi       Event       MR       Rsq        E1       Px1  \\\n",
       "0      148029   388   302318745  215.553  0.031977  136.7100 -109.8930   \n",
       "1      148029   388   302323641  155.437  0.042157   83.3865   81.1500   \n",
       "2      148029   388   302336217  400.563  0.026938  253.1840  139.9020   \n",
       "...       ...   ...         ...      ...       ...       ...       ...   \n",
       "21723  149181  1804  1703621104  484.392  0.000920  197.1530  -61.5507   \n",
       "21724  149181  1804  1703642752  215.713  0.055836  647.4060  -78.9546   \n",
       "21725  149181  1804  1703634776  547.384  0.001232  242.4140  191.2180   \n",
       "\n",
       "             Py1       Pz1        E2       Px2      Py2       Pz2       HT  \\\n",
       "0      -54.03420  -58.9032  142.1790   70.0254  41.1225 -116.5130  203.666   \n",
       "1        6.88361  -12.9688   73.9025  -72.2472  11.8835    3.0899  154.659   \n",
       "2      102.64000 -101.9350  535.5510 -110.3790 -89.0929 -516.1790  343.280   \n",
       "...          ...       ...       ...       ...      ...       ...      ...   \n",
       "21723   21.76930  110.9250  483.9510   47.5292 -37.9600 -470.8470  261.615   \n",
       "21724  -88.75690  636.3600  383.0890   80.5702  49.3765  371.1240  213.289   \n",
       "21725 -118.75800  -37.2528  414.6670 -175.4890  83.3315  355.2330  444.869   \n",
       "\n",
       "            MET  nJets  nBJets  \n",
       "0      18.31100      2       0  \n",
       "1      14.77470      2       0  \n",
       "2      25.22110      3       0  \n",
       "...         ...    ...     ...  \n",
       "21723   3.71479      4       0  \n",
       "21724  20.95540      2       0  \n",
       "21725   1.84347      4       0  \n",
       "\n",
       "[21726 rows x 17 columns]"
      ]
     },
     "execution_count": 20,
     "metadata": {},
     "output_type": "execute_result"
    }
   ],
   "source": [
    "pd.set_option(\"display.max_rows\", 6)\n",
    "\n",
    "df = pd.read_csv(\"Dataset\\MultiJetRun2010B.csv\")\n",
    "df"
   ]
  },
  {
   "cell_type": "markdown",
   "id": "68b8c802-ffda-4515-9b8d-2be40ebac507",
   "metadata": {},
   "source": [
    "As colunas `Run`, `Lumi` e `Event` são apenas para identificação de eventos, então podemos retirá-las. O mesmo vale para a `nBJets` pois o mesmo não é relevante para o nosso trabalho.\n",
    "\n",
    "Dessa forma, iremos definir apenas os dados que nos interessa como atributos, além de definir a `nJets` como target."
   ]
  },
  {
   "cell_type": "code",
   "execution_count": 21,
   "id": "5839840f-cf64-42b0-b32f-3da3acf9b835",
   "metadata": {},
   "outputs": [
    {
     "data": {
      "text/html": [
       "<div>\n",
       "<style scoped>\n",
       "    .dataframe tbody tr th:only-of-type {\n",
       "        vertical-align: middle;\n",
       "    }\n",
       "\n",
       "    .dataframe tbody tr th {\n",
       "        vertical-align: top;\n",
       "    }\n",
       "\n",
       "    .dataframe thead th {\n",
       "        text-align: right;\n",
       "    }\n",
       "</style>\n",
       "<table border=\"1\" class=\"dataframe\">\n",
       "  <thead>\n",
       "    <tr style=\"text-align: right;\">\n",
       "      <th></th>\n",
       "      <th>MR</th>\n",
       "      <th>Rsq</th>\n",
       "      <th>E1</th>\n",
       "      <th>Px1</th>\n",
       "      <th>Py1</th>\n",
       "      <th>Pz1</th>\n",
       "      <th>E2</th>\n",
       "      <th>Px2</th>\n",
       "      <th>Py2</th>\n",
       "      <th>Pz2</th>\n",
       "      <th>HT</th>\n",
       "      <th>MET</th>\n",
       "      <th>nJets</th>\n",
       "    </tr>\n",
       "  </thead>\n",
       "  <tbody>\n",
       "    <tr>\n",
       "      <th>0</th>\n",
       "      <td>215.553</td>\n",
       "      <td>0.031977</td>\n",
       "      <td>136.7100</td>\n",
       "      <td>-109.8930</td>\n",
       "      <td>-54.03420</td>\n",
       "      <td>-58.9032</td>\n",
       "      <td>142.1790</td>\n",
       "      <td>70.0254</td>\n",
       "      <td>41.1225</td>\n",
       "      <td>-116.5130</td>\n",
       "      <td>203.666</td>\n",
       "      <td>18.31100</td>\n",
       "      <td>2</td>\n",
       "    </tr>\n",
       "    <tr>\n",
       "      <th>1</th>\n",
       "      <td>155.437</td>\n",
       "      <td>0.042157</td>\n",
       "      <td>83.3865</td>\n",
       "      <td>81.1500</td>\n",
       "      <td>6.88361</td>\n",
       "      <td>-12.9688</td>\n",
       "      <td>73.9025</td>\n",
       "      <td>-72.2472</td>\n",
       "      <td>11.8835</td>\n",
       "      <td>3.0899</td>\n",
       "      <td>154.659</td>\n",
       "      <td>14.77470</td>\n",
       "      <td>2</td>\n",
       "    </tr>\n",
       "    <tr>\n",
       "      <th>2</th>\n",
       "      <td>400.563</td>\n",
       "      <td>0.026938</td>\n",
       "      <td>253.1840</td>\n",
       "      <td>139.9020</td>\n",
       "      <td>102.64000</td>\n",
       "      <td>-101.9350</td>\n",
       "      <td>535.5510</td>\n",
       "      <td>-110.3790</td>\n",
       "      <td>-89.0929</td>\n",
       "      <td>-516.1790</td>\n",
       "      <td>343.280</td>\n",
       "      <td>25.22110</td>\n",
       "      <td>3</td>\n",
       "    </tr>\n",
       "    <tr>\n",
       "      <th>...</th>\n",
       "      <td>...</td>\n",
       "      <td>...</td>\n",
       "      <td>...</td>\n",
       "      <td>...</td>\n",
       "      <td>...</td>\n",
       "      <td>...</td>\n",
       "      <td>...</td>\n",
       "      <td>...</td>\n",
       "      <td>...</td>\n",
       "      <td>...</td>\n",
       "      <td>...</td>\n",
       "      <td>...</td>\n",
       "      <td>...</td>\n",
       "    </tr>\n",
       "    <tr>\n",
       "      <th>21723</th>\n",
       "      <td>484.392</td>\n",
       "      <td>0.000920</td>\n",
       "      <td>197.1530</td>\n",
       "      <td>-61.5507</td>\n",
       "      <td>21.76930</td>\n",
       "      <td>110.9250</td>\n",
       "      <td>483.9510</td>\n",
       "      <td>47.5292</td>\n",
       "      <td>-37.9600</td>\n",
       "      <td>-470.8470</td>\n",
       "      <td>261.615</td>\n",
       "      <td>3.71479</td>\n",
       "      <td>4</td>\n",
       "    </tr>\n",
       "    <tr>\n",
       "      <th>21724</th>\n",
       "      <td>215.713</td>\n",
       "      <td>0.055836</td>\n",
       "      <td>647.4060</td>\n",
       "      <td>-78.9546</td>\n",
       "      <td>-88.75690</td>\n",
       "      <td>636.3600</td>\n",
       "      <td>383.0890</td>\n",
       "      <td>80.5702</td>\n",
       "      <td>49.3765</td>\n",
       "      <td>371.1240</td>\n",
       "      <td>213.289</td>\n",
       "      <td>20.95540</td>\n",
       "      <td>2</td>\n",
       "    </tr>\n",
       "    <tr>\n",
       "      <th>21725</th>\n",
       "      <td>547.384</td>\n",
       "      <td>0.001232</td>\n",
       "      <td>242.4140</td>\n",
       "      <td>191.2180</td>\n",
       "      <td>-118.75800</td>\n",
       "      <td>-37.2528</td>\n",
       "      <td>414.6670</td>\n",
       "      <td>-175.4890</td>\n",
       "      <td>83.3315</td>\n",
       "      <td>355.2330</td>\n",
       "      <td>444.869</td>\n",
       "      <td>1.84347</td>\n",
       "      <td>4</td>\n",
       "    </tr>\n",
       "  </tbody>\n",
       "</table>\n",
       "<p>21726 rows × 13 columns</p>\n",
       "</div>"
      ],
      "text/plain": [
       "            MR       Rsq        E1       Px1        Py1       Pz1        E2  \\\n",
       "0      215.553  0.031977  136.7100 -109.8930  -54.03420  -58.9032  142.1790   \n",
       "1      155.437  0.042157   83.3865   81.1500    6.88361  -12.9688   73.9025   \n",
       "2      400.563  0.026938  253.1840  139.9020  102.64000 -101.9350  535.5510   \n",
       "...        ...       ...       ...       ...        ...       ...       ...   \n",
       "21723  484.392  0.000920  197.1530  -61.5507   21.76930  110.9250  483.9510   \n",
       "21724  215.713  0.055836  647.4060  -78.9546  -88.75690  636.3600  383.0890   \n",
       "21725  547.384  0.001232  242.4140  191.2180 -118.75800  -37.2528  414.6670   \n",
       "\n",
       "            Px2      Py2       Pz2       HT       MET  nJets  \n",
       "0       70.0254  41.1225 -116.5130  203.666  18.31100      2  \n",
       "1      -72.2472  11.8835    3.0899  154.659  14.77470      2  \n",
       "2     -110.3790 -89.0929 -516.1790  343.280  25.22110      3  \n",
       "...         ...      ...       ...      ...       ...    ...  \n",
       "21723   47.5292 -37.9600 -470.8470  261.615   3.71479      4  \n",
       "21724   80.5702  49.3765  371.1240  213.289  20.95540      2  \n",
       "21725 -175.4890  83.3315  355.2330  444.869   1.84347      4  \n",
       "\n",
       "[21726 rows x 13 columns]"
      ]
     },
     "execution_count": 21,
     "metadata": {},
     "output_type": "execute_result"
    }
   ],
   "source": [
    "atributos = [\"MR\", \"Rsq\", \"E1\", \"Px1\", \"Py1\", \"Pz1\", \"E2\", \"Px2\", \"Py2\", \"Pz2\", \"HT\", \"MET\"]\n",
    "target = [\"nJets\"]\n",
    "\n",
    "df = df.reindex(atributos + target, axis=1)\n",
    "df = df.dropna()\n",
    "df"
   ]
  },
  {
   "cell_type": "markdown",
   "id": "e7ba5d2e-4309-439a-9faf-fe1c4e52dbd7",
   "metadata": {},
   "source": [
    "Antes de continuarmos, é necessário observar algo sobre o target."
   ]
  },
  {
   "cell_type": "code",
   "execution_count": 22,
   "id": "f3d6c22f-0287-40e5-9a31-34779aaff498",
   "metadata": {},
   "outputs": [
    {
     "name": "stdout",
     "output_type": "stream",
     "text": [
      "nJets\n",
      "2    14002\n",
      "3     6204\n",
      "4     1325\n",
      "5      169\n",
      "6       23\n",
      "7        3\n",
      "Name: count, dtype: int64\n",
      "nJets\n",
      "2    64.448127\n",
      "3    28.555648\n",
      "4     6.098684\n",
      "5     0.777870\n",
      "6     0.105864\n",
      "7     0.013808\n",
      "Name: proportion, dtype: float64\n"
     ]
    }
   ],
   "source": [
    "contagem = df[\"nJets\"].value_counts()\n",
    "print(contagem)\n",
    "\n",
    "porcentagem = df[\"nJets\"].value_counts(normalize=True) * 100\n",
    "print(porcentagem)"
   ]
  },
  {
   "cell_type": "markdown",
   "id": "fb5646ff-b661-41b6-9c4e-4d20b1dd2d03",
   "metadata": {},
   "source": [
    "Note que as classes de contagem de jets \"4\" pra cima possuem uma frequência muito baixa, sendo praticamente irrelevantes para o treinamento futuro. Portanto, podemos agrupá-lás para amenizar isso."
   ]
  },
  {
   "cell_type": "code",
   "execution_count": 23,
   "id": "6181328b-9723-4ee8-923d-135a6e62cdb8",
   "metadata": {},
   "outputs": [
    {
     "name": "stdout",
     "output_type": "stream",
     "text": [
      "nJets\n",
      "2    14002\n",
      "3     6204\n",
      "4     1520\n",
      "Name: count, dtype: int64\n",
      "nJets\n",
      "2    64.448127\n",
      "3    28.555648\n",
      "4     6.996226\n",
      "Name: proportion, dtype: float64\n"
     ]
    }
   ],
   "source": [
    "df[\"nJets\"] = df[\"nJets\"].apply(lambda x: x if x <= 3 else 4)\n",
    "\n",
    "contagem = df[\"nJets\"].value_counts()\n",
    "print(contagem)\n",
    "porcentagem = df[\"nJets\"].value_counts(normalize=True) * 100\n",
    "print(porcentagem)"
   ]
  },
  {
   "cell_type": "markdown",
   "id": "4f71bd68-13e2-4b78-8f46-13f796dc3e97",
   "metadata": {},
   "source": [
    "Dessa forma, a classe \"4\" para os `nJets` passa a indicar \"4 ou mais\" jets detectados.\n",
    "\n",
    "Perceba que ainda há um desbalanceamento na frequência das classes. Isso pode afetar de maneira negativa os modelos, pois ele tende a aprender mais sobre a classe majoritária e ignorar as minoritárias. \n",
    "\n",
    "Para corrigir isso, utilizaremos de técnicas de `atribuição de pesos de classe`, dando mais importância às classes minoritárias durante o treinamento. Esse conceito será melhor explicado mais à frente do trabalho."
   ]
  },
  {
   "cell_type": "markdown",
   "id": "40b94ef1-74d9-4c70-9c01-a611a688dace",
   "metadata": {},
   "source": [
    "### Split dos dados"
   ]
  },
  {
   "cell_type": "markdown",
   "id": "be84df5d-827c-4517-92b9-d5efd3e42257",
   "metadata": {},
   "source": [
    "A forma como dividimos os dados entre treino e teste também deve ser cuidadosamente definida, garantindo que todos os modelos sejam avaliados de maneira justa. A semente aleatória atua como um hiperparâmetro que deve ser fixado antes do treinamento, assegurando que a divisão dos dados e quaisquer processos aleatórios sejam consistentes entre diferentes execuções. Embora não influencie diretamente a acurácia do modelo, ela é fundamental para reprodutibilidade dos resultados. \n",
    "\n",
    "Para este estudo, iremos reservar 20% dos dados para teste, enquanto o restante será alocado para treino. Além disso, manteremos a proporção das classes de `nJets` equilibrada entre os conjuntos de treino e teste utilizando o argumento `stratify`."
   ]
  },
  {
   "cell_type": "code",
   "execution_count": 24,
   "id": "3b0fe90c-95b4-45c9-ac0f-2a137233c6b2",
   "metadata": {},
   "outputs": [],
   "source": [
    "semente_aleatoria = 2307 #amo esse numero totalmente aleatorio\n",
    "tamanho_teste = 0.2\n",
    "\n",
    "indices = df.index\n",
    "indices_treino, indices_teste = train_test_split(\n",
    "    indices, test_size=tamanho_teste, random_state=semente_aleatoria, stratify=df[\"nJets\"]\n",
    ")\n",
    "\n",
    "df_treino = df.loc[indices_treino]\n",
    "df_teste = df.loc[indices_teste]\n",
    "\n",
    "X_treino = df_treino[atributos].values\n",
    "y_treino = df_treino[target].values.ravel()\n",
    "\n",
    "X_teste = df_teste[atributos].values\n",
    "y_teste = df_teste[target].values.ravel()\n"
   ]
  },
  {
   "cell_type": "markdown",
   "id": "6557d6e5-ca98-4513-a036-b599f27b94ba",
   "metadata": {},
   "source": [
    "Usaremos o `StandardScaler` para normalizar os atributos, transformando-os para que tenham média zero e desvio padrão 1. Isso evita que variáveis com escalas maiores dominem o modelo e garante que algoritmos sensíveis à magnitude dos dados funcionem de maneira eficiente."
   ]
  },
  {
   "cell_type": "code",
   "execution_count": 25,
   "id": "ce05e6e7-78b0-43c6-abad-9c32b11e2646",
   "metadata": {},
   "outputs": [],
   "source": [
    "scaler = StandardScaler()\n",
    "X_treino = scaler.fit_transform(X_treino)\n",
    "X_teste = scaler.transform(X_teste)"
   ]
  },
  {
   "cell_type": "markdown",
   "id": "9859c493-bbfd-425e-b058-6d45b7e680a7",
   "metadata": {},
   "source": [
    "# Treinamento dos modelos"
   ]
  },
  {
   "cell_type": "markdown",
   "id": "9ae2effc-f401-496c-be48-dbd523cd242e",
   "metadata": {},
   "source": [
    "## Árvore de Decisões"
   ]
  },
  {
   "cell_type": "markdown",
   "id": "64db5240-484f-43ce-a5a5-96fa9ec6cc15",
   "metadata": {},
   "source": [
    "A árvore de decisão é um algoritmo de classificação  que organiza os dados em uma estrutura hierárquica de divisões, onde cada nó separa os exemplos em subconjuntos menores com base nos atributos disponíveis. Esse processo continua até atingir as folhas, que representam a classe final prevista para cada exemplo.\n",
    "\n",
    "O funcionamento da árvore consiste em analisar todos os dados disponíveis e, em cada nó, realizar a divisão que melhor separa as classes de acordo com um critério de impureza. Cada divisão cria novos nós, e o processo se repete até que não haja mais subdivisões necessárias, determinando a classe predita em cada folha.\n",
    "\n",
    "Em nosso trabalho, iremos treinar um modelo de Árvore de Decisão para prever `nJets` a partir de atributos físicos das colisões de prótons. Para isso, utilizaremos um `pipeline` que inclui padronização dos dados, e faremos otimização de hiperparâmetros com o Optuna para obter o melhor desempenho do modelo, levando em consideração também o desbalanceamento das classes por meio de pesos.\n",
    "\n",
    "------------------------------------------------------------------------------------------------------------------\n",
    "\n",
    "Quando trabalhamos com classes desbalanceadas, o modelo pode ficar tendencioso para a classe majoritária. Isso acontece porque, sem ajustes, o algoritmo não penaliza suficientemente os erros das classes minoritárias, que são menos representadas nos dados.\n",
    "\n",
    "O parâmetro `class_weight=\"balanced\"` corrige isso atribuindo pesos inversamente proporcionais à frequência das classes. Ou seja, quanto menos frequente a classe, maior será o seu peso na função de aprendizado, fazendo com que classes minoritárias sejam mais consideradas pelo modelo.\n",
    "\n",
    "------------------------------------------------------------------------------------------------------------------\n",
    "\n",
    "Fora isso, a abordagem do `pipeline` facilita a execução de várias etapas de pré-processamento e modelagem em sequência, permitindo que padronizemos o fluxo de trabalho e apliquemos transformações nos dados de forma consistente e automatizada, sem repetições desnecessárias. Inicialmente, aplicaremos o `StandardScaler()` para padronizar os dados, garantindo que todas as variáveis estejam na mesma escala antes de ajustar o `DecisionTreeClassifier`, o que ajuda o modelo a aprender de forma mais eficiente."
   ]
  },
  {
   "cell_type": "code",
   "execution_count": 26,
   "id": "7d21edb4-7520-4340-ac47-65a8a977de81",
   "metadata": {},
   "outputs": [],
   "source": [
    "modelo_ad_pipeline = make_pipeline(\n",
    "    StandardScaler(),\n",
    "    DecisionTreeClassifier(random_state=semente_aleatoria, class_weight=\"balanced\")\n",
    ")"
   ]
  },
  {
   "cell_type": "markdown",
   "id": "40ec1670-07ce-4bbf-9d4f-e63da12f2268",
   "metadata": {},
   "source": [
    "Para avaliar o desempenho do modelo de forma confiável, utilizamos o `StratifiedKFold` nos dados de X_treino e y_treino. Essa técnica de validação cruzada divide o conjunto de treino em vários folds, mantendo em cada um deles a mesma proporção de classes presente no dataset original. Dessa forma, evitamos que alguma classe minoritária fique sub-representada em algum fold, o que poderia distorcer a avaliação do modelo.\n",
    "\n",
    "Para medir o desempenho em cada fold, utilizamos a métrica de `F1-weighted`, que combina precisão (precision) e revocação (recall) em uma única medida, ponderando o impacto de cada classe de acordo com sua frequência no conjunto de dados. Essa métrica é especialmente útil em problemas com classes desbalanceadas, pois avalia o desempenho global do modelo levando em consideração tanto as classes majoritárias quanto as minoritárias de forma proporcional."
   ]
  },
  {
   "cell_type": "code",
   "execution_count": 27,
   "id": "299fd029-8db8-40e4-89fa-fdec6987fdc6",
   "metadata": {},
   "outputs": [
    {
     "name": "stdout",
     "output_type": "stream",
     "text": [
      "Valor do F1_weighted em cada fold: [0.71911223 0.71946067 0.69216612 0.7070916  0.70080966 0.68764985\n",
      " 0.7026415  0.71007314 0.7112263  0.70233485]\n",
      "Valor médio 0.7052565920755243\n"
     ]
    }
   ],
   "source": [
    "num_folds = 10\n",
    "skf = StratifiedKFold(n_splits=num_folds, shuffle=True, random_state=semente_aleatoria)\n",
    "\n",
    "metricas = cross_val_score(\n",
    "    modelo_ad_pipeline,\n",
    "    X_treino,\n",
    "    y_treino,\n",
    "    cv=skf,\n",
    "    scoring=\"f1_weighted\"\n",
    ")\n",
    "\n",
    "score_medio = metricas.mean()\n",
    "print(\"Valor do F1_weighted em cada fold:\", metricas)\n",
    "print(\"Valor médio\", score_medio)"
   ]
  },
  {
   "cell_type": "markdown",
   "id": "e895c382-7553-434b-ba82-fffb6e69cbf4",
   "metadata": {},
   "source": [
    "### Otimização utilizando Optuna"
   ]
  },
  {
   "cell_type": "markdown",
   "id": "c587349d-4259-4607-b937-acd28269dd80",
   "metadata": {},
   "source": [
    "O `Optuna` é uma biblioteca de otimização de hiperparâmetros que permite encontrar automaticamente as melhores combinações para algoritmos de machine learning. O processo começa com a definição de uma função objetivo, que especifica os hiperparâmetros a serem testados e o modelo a ser treinado. Em seguida, o Optuna explora de forma eficiente o espaço de hiperparâmetros, avaliando diferentes configurações com base em uma métrica de desempenho escolhida.\n",
    "\n",
    "Definiremos uma função `cria_instancia_modelo_ad(trial)`, que irá utilizar do `Optuna` para sugerir valores da Árvore de Decisão Classificadora."
   ]
  },
  {
   "cell_type": "code",
   "execution_count": 28,
   "id": "17f80fbe-9273-4c72-8da4-03c72e10629d",
   "metadata": {},
   "outputs": [],
   "source": [
    "def cria_instancia_modelo_ad(trial):\n",
    "    \n",
    "    parametros_ad = {\n",
    "        \"criterion\": trial.suggest_categorical(\"criterion\", [\"gini\", \"entropy\", \"log_loss\"]),\n",
    "        \"max_depth\": trial.suggest_int(\"max_depth\", 2, 30),\n",
    "        \"min_samples_split\": trial.suggest_int(\"min_samples_split\", 2, 20),\n",
    "        \"min_samples_leaf\": trial.suggest_int(\"min_samples_leaf\", 1, 20),\n",
    "        \"max_features\": trial.suggest_categorical(\"max_features\", [None, \"sqrt\", \"log2\"]),\n",
    "        \"class_weight\": \"balanced\",  \n",
    "        \"random_state\": semente_aleatoria\n",
    "    }\n",
    "\n",
    "    modelo = DecisionTreeClassifier(**parametros_ad)\n",
    "    return modelo\n"
   ]
  },
  {
   "cell_type": "markdown",
   "id": "2d4bc37c-b63f-483e-acbb-0f6494434ff4",
   "metadata": {},
   "source": [
    "Criaremos agora a função `objetivo_ad`, responsável por avaliar o desempenho do modelo com diferentes combinações de hiperparâmetros sugeridas pelo Optuna no trial, utilizando validação cruzada e a métrica F1-weighted."
   ]
  },
  {
   "cell_type": "code",
   "execution_count": 29,
   "id": "f5a3c86c-ba08-42b0-82d8-bb3c0a1d2f05",
   "metadata": {},
   "outputs": [],
   "source": [
    "def objetivo_ad(trial, X, y, num_folds):\n",
    "    \n",
    "    modelo = cria_instancia_modelo_ad(trial)\n",
    "    \n",
    "    skf = StratifiedKFold(n_splits=num_folds, shuffle=True, random_state=semente_aleatoria)\n",
    "    \n",
    "    metricas = cross_val_score(\n",
    "        modelo,\n",
    "        X,\n",
    "        y,\n",
    "        cv=skf,\n",
    "        scoring=\"f1_weighted\"\n",
    "    )\n",
    "    \n",
    "    return metricas.mean()"
   ]
  },
  {
   "cell_type": "markdown",
   "id": "7a384286-e227-4ca9-a111-c9ec04612004",
   "metadata": {},
   "source": [
    "Criaremos agora o objeto de estudo do `Optuna`, podendo armazenar o resultado da otimização e reutilizá-los depois sem precisar realizar o processo novamente. Além disso, o estudo será utilizado para defirmos alguns parâmetros de otimização."
   ]
  },
  {
   "cell_type": "code",
   "execution_count": 30,
   "id": "b42498b0-6c4a-41ea-a87e-dfceef47e3d5",
   "metadata": {},
   "outputs": [
    {
     "name": "stderr",
     "output_type": "stream",
     "text": [
      "[I 2025-10-19 10:53:27,743] Using an existing study with name 'decision_tree_nJets' instead of creating a new one.\n"
     ]
    }
   ],
   "source": [
    "nome_do_estudo = \"decision_tree_nJets\"\n",
    "pasta = \"Estudos do Optuna\"\n",
    "caminho_db = f\"{pasta}/{nome_do_estudo}\"\n",
    "\n",
    "\n",
    "study_ad = optuna.create_study(\n",
    "    direction=\"maximize\",\n",
    "    study_name=nome_do_estudo,\n",
    "    storage=f\"sqlite:///{caminho_db}.db\", \n",
    "    load_if_exists=True\n",
    ")"
   ]
  },
  {
   "cell_type": "markdown",
   "id": "9d57ffc9-5c8d-4f1b-a913-eac4c67860fc",
   "metadata": {},
   "source": [
    "A função `objetivo_parcial_ad` é uma adaptação da função original feita para que o `Optuna` consiga executar o processo de otimização de forma mais simples. Nela, os dados de treinamento (X_treino e y_treino) e o número de folds (num_folds) já ficam definidos, enquanto o Optuna altera apenas o parâmetro trial a cada iteração, permitindo que diferentes combinações de hiperparâmetros sejam avaliadas automaticamente."
   ]
  },
  {
   "cell_type": "code",
   "execution_count": 31,
   "id": "ddbd0e77-d856-4754-ac79-4f12948060ac",
   "metadata": {},
   "outputs": [],
   "source": [
    "def objetivo_parcial_ad(trial):\n",
    "    return objetivo_ad(trial, X_treino, y_treino, num_folds)"
   ]
  },
  {
   "cell_type": "markdown",
   "id": "f08b826b-5e36-4082-bf15-dc10bd0b2eaa",
   "metadata": {},
   "source": [
    "Com todas as funções definidas, o próximo passo é executar o `Optuna` para realizar a otimização dos hiperparâmetros. Definimos 100 tentativas (trials), nas quais o `Optuna` irá testar diferentes combinações de parâmetros do modelo, avaliando o desempenho em cada uma delas para, ao final, selecionar automaticamente aquela que apresentar os melhores resultados."
   ]
  },
  {
   "cell_type": "code",
   "execution_count": 32,
   "id": "7c448a4b-abd4-4491-b829-0567b4e5868b",
   "metadata": {},
   "outputs": [
    {
     "name": "stderr",
     "output_type": "stream",
     "text": [
      "[I 2025-10-19 10:53:40,234] Trial 99 finished with value: 0.7123304794906578 and parameters: {'criterion': 'entropy', 'max_depth': 24, 'min_samples_split': 5, 'min_samples_leaf': 1, 'max_features': None}. Best is trial 14 with value: 0.7132023542986157.\n"
     ]
    }
   ],
   "source": [
    "num_tentativas = 100\n",
    "trials_ja_feitos = len(study_ad.trials)\n",
    "if trials_ja_feitos < num_tentativas:\n",
    "    study_ad.optimize(objetivo_parcial_ad, n_trials=num_tentativas - trials_ja_feitos)"
   ]
  },
  {
   "cell_type": "code",
   "execution_count": 33,
   "id": "635e0830-d26c-41fe-8bad-f8fb53e9bf72",
   "metadata": {},
   "outputs": [
    {
     "name": "stdout",
     "output_type": "stream",
     "text": [
      "Melhores hiperparâmetros encontrados:\n",
      "{'criterion': 'entropy', 'max_depth': 26, 'min_samples_split': 5, 'min_samples_leaf': 1, 'max_features': None}\n",
      "Número do melhor trial: 14\n",
      "Melhor valor de F1: 0.7132023542986157\n"
     ]
    }
   ],
   "source": [
    "print(\"Melhores hiperparâmetros encontrados:\")\n",
    "print(study_ad.best_params)\n",
    "print(f\"Número do melhor trial: {study_ad.best_trial.number}\")\n",
    "print(f\"Melhor valor de F1: {study_ad.best_value}\")"
   ]
  },
  {
   "cell_type": "markdown",
   "id": "d09bc5bd-bc5d-4a2f-94d3-bda4e5842677",
   "metadata": {},
   "source": [
    "Criaremos agora um `pipeline` que combina o `StandardScaler` para normalizar os dados com a instância do modelo de árvore de decisão configurada com os melhores hiperparâmetros encontrados pelo `Optuna`. Em seguida, treinaremos esse pipeline nos dados de treino e avaliaremos seu desempenho no conjunto de teste, utilizando a métrica `F1_weighted` para medir a performance do modelo levando em conta o desbalanceamento das classes."
   ]
  },
  {
   "cell_type": "code",
   "execution_count": 34,
   "id": "f3c94507-a6d7-4949-a0f9-3d9368fd741d",
   "metadata": {},
   "outputs": [
    {
     "name": "stdout",
     "output_type": "stream",
     "text": [
      "F1-score ponderado final: 0.7135445154439206\n"
     ]
    }
   ],
   "source": [
    "modelo_ad_pipeline = make_pipeline(\n",
    "    StandardScaler(),  \n",
    "    DecisionTreeClassifier(random_state=semente_aleatoria, **study_ad.best_trial.params, class_weight=\"balanced\")\n",
    ")\n",
    "\n",
    "modelo_ad_pipeline.fit(X_treino, y_treino)\n",
    "\n",
    "y_pred = modelo_ad_pipeline.predict(X_teste)\n",
    "\n",
    "f1_ad_final = f1_score(y_teste, y_pred, average=\"weighted\")\n",
    "print(\"F1-score ponderado final:\", f1_ad_final)"
   ]
  },
  {
   "cell_type": "markdown",
   "id": "d16d4b91-cf1d-4959-9bc6-bf8583678b80",
   "metadata": {},
   "source": [
    "### Explicação do modelo"
   ]
  },
  {
   "cell_type": "markdown",
   "id": "26c6cb15-8f94-4511-a2ca-0174f1f4a99d",
   "metadata": {},
   "source": [
    "Para extrair informações do modelo e explicá-lo utilizaremos do `Permutation Importance`. \n",
    "\n",
    "O Permutation Importance é uma técnica usada para medir a importância de cada variável em um modelo preditivo. A ideia básica é avaliar quanto a performance do modelo piora quando os valores de uma variável específica são embaralhados (permutados), quebrando a relação dessa variável com a saída. Se a métrica de desempenho do modelo cair significativamente após a permutação, isso indica que a variável é importante para a predição. Por outro lado, se a métrica permanecer quase igual, a variável provavelmente tem pouca influência no modelo. Esse método é particularmente útil porque pode ser aplicado a qualquer modelo, mesmo aqueles que não fornecem diretamente medidas internas de importância dos atributos."
   ]
  },
  {
   "cell_type": "code",
   "execution_count": 35,
   "id": "20438aa9-2889-41e9-bd7b-bce73dde69d7",
   "metadata": {},
   "outputs": [
    {
     "name": "stdout",
     "output_type": "stream",
     "text": [
      "Importância das features (Permutation Importance):\n",
      "HT: 0.24110543768890938\n",
      "MR: 0.053289481366053985\n",
      "Px2: 0.05013916080276915\n",
      "Py2: 0.04774403659289318\n",
      "Px1: 0.039153265239875355\n",
      "Py1: 0.03700794413253662\n",
      "E1: 0.0339859681340466\n",
      "Pz1: 0.029002889793221652\n",
      "E2: 0.01739433614489277\n",
      "Rsq: 0.01447106416375444\n",
      "Pz2: 0.006151836758721359\n",
      "MET: 0.004415243592899313\n"
     ]
    },
    {
     "data": {
      "image/png": "[encoded data removed]",
      "text/plain": [
       "<Figure size 1000x600 with 1 Axes>"
      ]
     },
     "metadata": {},
     "output_type": "display_data"
    }
   ],
   "source": [
    "resultado_perm = permutation_importance(\n",
    "    modelo_ad_pipeline,\n",
    "    X_teste,\n",
    "    y_teste,\n",
    "    n_repeats=30,\n",
    "    random_state=semente_aleatoria,\n",
    "    scoring=\"f1_weighted\"\n",
    ")\n",
    "\n",
    "importancia_atributos = resultado_perm.importances_mean\n",
    "indices = np.argsort(importancia_atributos)[::-1]  \n",
    "\n",
    "print(\"Importância das features (Permutation Importance):\")\n",
    "for i in indices:\n",
    "    print(f\"{atributos[i]}: {importancia_atributos[i]}\")\n",
    "\n",
    "plt.figure(figsize=(10,6))\n",
    "plt.bar([atributos[i] for i in indices], importancia_atributos[indices])\n",
    "plt.xticks(rotation=45)\n",
    "plt.ylabel(\"Importância média\")\n",
    "plt.title(\"Permutation Importance dos Atributos\")\n",
    "plt.show()"
   ]
  },
  {
   "cell_type": "markdown",
   "id": "6e9c0362-c32c-40f0-a2bc-f88fba2c3ac8",
   "metadata": {},
   "source": [
    "## Comparação do desempenho"
   ]
  },
  {
   "cell_type": "markdown",
   "id": "334db8f6-0b04-4f08-a2d2-7464ecfcab06",
   "metadata": {},
   "source": [
    "Usar alguma métrica (provavelmente RMSE), fazer validação cruzada\n",
    "\n",
    "da pra incluir alguns graficos de dados reais/previstos"
   ]
  },
  {
   "cell_type": "markdown",
   "id": "3b6e57bc-55be-4048-933f-aa62341db08f",
   "metadata": {},
   "source": [
    "## Discussão dos resultados"
   ]
  },
  {
   "cell_type": "markdown",
   "id": "cbd11bda-a834-45e4-be15-d5621af00230",
   "metadata": {},
   "source": [
    "discussao de tudo"
   ]
  },
  {
   "cell_type": "markdown",
   "id": "0e9d7d0f-5706-47e8-83fa-97162ce04536",
   "metadata": {},
   "source": [
    "## Conclusão"
   ]
  },
  {
   "cell_type": "markdown",
   "id": "292864bf-5b18-4986-ab5e-6c1fadaeb9ee",
   "metadata": {},
   "source": [
    "Não precisa ser longo, 2 paragrafos ja ta bom"
   ]
  },
  {
   "cell_type": "markdown",
   "id": "3ee41edf-6705-471b-894a-c093b5dfea38",
   "metadata": {},
   "source": [
    "## Referências"
   ]
  },
  {
   "cell_type": "markdown",
   "id": "51132a04-cfbc-447a-8f2b-5c1abeee6045",
   "metadata": {},
   "source": [
    "Ir citando conforme necessario"
   ]
  },
  {
   "cell_type": "code",
   "execution_count": null,
   "id": "a607375e-5719-46d0-b24c-133e49077eaa",
   "metadata": {},
   "outputs": [],
   "source": []
  }
 ],
 "metadata": {
  "kernelspec": {
   "display_name": "Python 3",
   "language": "python",
   "name": "python3"
  },
  "language_info": {
   "codemirror_mode": {
    "name": "ipython",
    "version": 3
   },
   "file_extension": ".py",
   "mimetype": "text/x-python",
   "name": "python",
   "nbconvert_exporter": "python",
   "pygments_lexer": "ipython3",
   "version": "3.12.7"
  }
 },
 "nbformat": 4,
 "nbformat_minor": 5
}
