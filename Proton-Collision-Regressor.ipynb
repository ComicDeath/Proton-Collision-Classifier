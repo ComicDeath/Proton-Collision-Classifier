{
 "cells": [
  {
   "cell_type": "markdown",
   "id": "0dfc0156-1105-4645-afa7-30b47c87351b",
   "metadata": {},
   "source": [
    "# TITULO FODA\n",
    "\n",
    "titulo foda do trabalho, ilum escola de ciencias, nossos nomes (te amo)"
   ]
  },
  {
   "cell_type": "markdown",
   "id": "11ad235d-243b-4741-9b4d-d74b210fe8e7",
   "metadata": {},
   "source": [
    "## Introdução"
   ]
  },
  {
   "cell_type": "markdown",
   "id": "fc69ac50-69c3-4e36-93cf-b56dd64a15ad",
   "metadata": {},
   "source": [
    "Algo teórico sobre colisões e pq é legal de prever os jets etc"
   ]
  },
  {
   "cell_type": "markdown",
   "id": "63e61764-2c05-42d5-bd38-32c086afbd19",
   "metadata": {},
   "source": [
    "## Tratamento de dados"
   ]
  },
  {
   "cell_type": "markdown",
   "id": "9fa31877-b6a6-4a61-bcf0-c66037f32a4f",
   "metadata": {},
   "source": [
    "Explicar um pouco do dataset usado da cern, train-test-split, retirar dados redundantes, normalizacao possivelmente?\n",
    "\n",
    "IREMOS PREVER nJets e nBJets usando o resto como atributo"
   ]
  },
  {
   "cell_type": "code",
   "execution_count": 1,
   "id": "6ce8c99e",
   "metadata": {},
   "outputs": [
    {
     "name": "stdout",
     "output_type": "stream",
     "text": [
      "      Run  Lumi      Event       MR       Rsq        E1      Px1        Py1  \\\n",
      "0  148029   388  302318745  215.553  0.031977  136.7100 -109.893  -54.03420   \n",
      "1  148029   388  302323641  155.437  0.042157   83.3865   81.150    6.88361   \n",
      "2  148029   388  302336217  400.563  0.026938  253.1840  139.902  102.64000   \n",
      "3  148029   388  302382289  286.245  0.094192  175.4860 -156.024  -62.95350   \n",
      "4  148029   388  302403873  204.514  0.018804  833.7950  100.410  -16.65900   \n",
      "\n",
      "        Pz1        E2       Px2       Py2       Pz2       HT       MET  nJets  \\\n",
      "0  -58.9032  142.1790   70.0254  41.12250 -116.5130  203.666  18.31100      2   \n",
      "1  -12.9688   73.9025  -72.2472  11.88350    3.0899  154.659  14.77470      2   \n",
      "2 -101.9350  535.5510 -110.3790 -89.09290 -516.1790  343.280  25.22110      3   \n",
      "3  -47.7434  112.8510   89.0843   3.45025   67.9007  257.397  46.02880      2   \n",
      "4 -827.4980  445.6120  -91.1991  15.55830 -390.1440  269.492   8.11345      3   \n",
      "\n",
      "   nBJets  \n",
      "0       0  \n",
      "1       0  \n",
      "2       0  \n",
      "3       0  \n",
      "4       0  \n",
      "<class 'pandas.core.frame.DataFrame'>\n",
      "RangeIndex: 21726 entries, 0 to 21725\n",
      "Data columns (total 17 columns):\n",
      " #   Column  Non-Null Count  Dtype  \n",
      "---  ------  --------------  -----  \n",
      " 0   Run     21726 non-null  int64  \n",
      " 1   Lumi    21726 non-null  int64  \n",
      " 2   Event   21726 non-null  int64  \n",
      " 3   MR      21726 non-null  float64\n",
      " 4   Rsq     21726 non-null  float64\n",
      " 5   E1      21726 non-null  float64\n",
      " 6   Px1     21726 non-null  float64\n",
      " 7   Py1     21726 non-null  float64\n",
      " 8   Pz1     21726 non-null  float64\n",
      " 9   E2      21726 non-null  float64\n",
      " 10  Px2     21726 non-null  float64\n",
      " 11  Py2     21726 non-null  float64\n",
      " 12  Pz2     21726 non-null  float64\n",
      " 13  HT      21726 non-null  float64\n",
      " 14  MET     21726 non-null  float64\n",
      " 15  nJets   21726 non-null  int64  \n",
      " 16  nBJets  21726 non-null  int64  \n",
      "dtypes: float64(12), int64(5)\n",
      "memory usage: 2.8 MB\n",
      "None\n"
     ]
    }
   ],
   "source": [
    "import pandas as pd\n",
    "\n",
    "df = pd.read_csv(\"MultiJetRun2010B.csv\")\n",
    "\n",
    "print(df.head())\n",
    "\n",
    "print(df.info())"
   ]
  },
  {
   "cell_type": "markdown",
   "id": "9859c493-bbfd-425e-b058-6d45b7e680a7",
   "metadata": {},
   "source": [
    "## Treinamento dos modelos"
   ]
  },
  {
   "cell_type": "markdown",
   "id": "9ae2effc-f401-496c-be48-dbd523cd242e",
   "metadata": {},
   "source": [
    "Escolher 5 modelos, treinar eles, otimizar hiperparametros pelo optuna\n",
    "\n",
    "possiveis modelos:\n",
    "\n",
    "**SVM**\n",
    "\n",
    "**K-NN REGRESSOR**\n",
    "\n",
    "**DECISION TREE**\n",
    "\n",
    "**RANDOM FOREST**"
   ]
  },
  {
   "cell_type": "markdown",
   "id": "6e9c0362-c32c-40f0-a2bc-f88fba2c3ac8",
   "metadata": {},
   "source": [
    "## Comparação do desempenho"
   ]
  },
  {
   "cell_type": "markdown",
   "id": "334db8f6-0b04-4f08-a2d2-7464ecfcab06",
   "metadata": {},
   "source": [
    "Usar alguma métrica (provavelmente RMSE), fazer validação cruzada\n",
    "\n",
    "da pra incluir alguns graficos de dados reais/previstos"
   ]
  },
  {
   "cell_type": "markdown",
   "id": "3b6e57bc-55be-4048-933f-aa62341db08f",
   "metadata": {},
   "source": [
    "## Discussão dos resultados"
   ]
  },
  {
   "cell_type": "markdown",
   "id": "cbd11bda-a834-45e4-be15-d5621af00230",
   "metadata": {},
   "source": [
    "discussao de tudo"
   ]
  },
  {
   "cell_type": "markdown",
   "id": "0e9d7d0f-5706-47e8-83fa-97162ce04536",
   "metadata": {},
   "source": [
    "## Conclusão"
   ]
  },
  {
   "cell_type": "markdown",
   "id": "292864bf-5b18-4986-ab5e-6c1fadaeb9ee",
   "metadata": {},
   "source": [
    "Não precisa ser longo, 2 paragrafos ja ta bom"
   ]
  },
  {
   "cell_type": "markdown",
   "id": "3ee41edf-6705-471b-894a-c093b5dfea38",
   "metadata": {},
   "source": [
    "## Referências"
   ]
  },
  {
   "cell_type": "markdown",
   "id": "51132a04-cfbc-447a-8f2b-5c1abeee6045",
   "metadata": {},
   "source": [
    "Ir citando conforme necessario"
   ]
  },
  {
   "cell_type": "code",
   "execution_count": null,
   "id": "a607375e-5719-46d0-b24c-133e49077eaa",
   "metadata": {},
   "outputs": [],
   "source": []
  }
 ],
 "metadata": {
  "kernelspec": {
   "display_name": "Python 3",
   "language": "python",
   "name": "python3"
  },
  "language_info": {
   "codemirror_mode": {
    "name": "ipython",
    "version": 3
   },
   "file_extension": ".py",
   "mimetype": "text/x-python",
   "name": "python",
   "nbconvert_exporter": "python",
   "pygments_lexer": "ipython3",
   "version": "3.12.7"
  }
 },
 "nbformat": 4,
 "nbformat_minor": 5
}
